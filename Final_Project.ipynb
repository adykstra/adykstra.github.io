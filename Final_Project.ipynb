{
  "nbformat": 4,
  "nbformat_minor": 0,
  "metadata": {
    "extensions": {
      "jupyter_dashboards": {
        "activeView": "grid_default",
        "version": 1,
        "views": {
          "grid_default": {
            "cellMargin": 10,
            "defaultCellHeight": 20,
            "maxColumns": 12,
            "name": "grid",
            "type": "grid"
          },
          "report_default": {
            "name": "report",
            "type": "report"
          }
        }
      }
    },
    "kernelspec": {
      "display_name": "R",
      "language": "R",
      "name": "ir"
    },
    "language_info": {
      "codemirror_mode": "r",
      "file_extension": ".r",
      "mimetype": "text/x-r-source",
      "name": "R",
      "pygments_lexer": "r",
      "version": "3.4.4"
    },
    "colab": {
      "name": "Final Project.ipynb",
      "provenance": [],
      "collapsed_sections": [
        "WURa6A3Lv8kR",
        "mRhobhEYv8ke",
        "CI5khJn3v8lM",
        "qoqWdr11v8lS",
        "_3VjECEgv8lX",
        "gTVoT2u2v8mL",
        "0lWKF8Unv8mg",
        "QMPuwUaJv8mp",
        "kvvuvHMsv8mr",
        "o-kXbFqKv8mx"
      ],
      "include_colab_link": true
    }
  },
  "cells": [
    {
      "cell_type": "markdown",
      "metadata": {
        "id": "view-in-github",
        "colab_type": "text"
      },
      "source": [
        "<a href=\"https://colab.research.google.com/github/adykstra/adykstra.github.io/blob/master/Final_Project.ipynb\" target=\"_parent\"><img src=\"https://colab.research.google.com/assets/colab-badge.svg\" alt=\"Open In Colab\"/></a>"
      ]
    },
    {
      "cell_type": "markdown",
      "metadata": {
        "extensions": {
          "jupyter_dashboards": {
            "version": 1,
            "views": {
              "grid_default": {},
              "report_default": {}
            }
          }
        },
        "id": "6Scbcy8mv8jW"
      },
      "source": [
        "# **Final Project: Analyzing Human Neuroimaging Data**\n",
        "\n",
        "## **Functional magnetic resonance imaging, or fMRI, is a non-invasive tool for measuring neural activity$^1$ in humans. Since it's advent in the early 1990s, fMRI has rapidly increased in popularity, as it provides a real-time window into the brain function of awake, healthy, thinking humans.**\n",
        "\n",
        "<br>\n",
        "\n",
        "![picture](https://drive.google.com/uc?id=1YTug1GWVyJzVD_7a1zZZ8pdARQtHdHWq)\n",
        "\n",
        "**Figure 1.** An image of both an MRI scanner (left panel) and a resulting brain \"slice\" depicting which areas of the brain are \"active\" (right panel).\n",
        "\n",
        "<br>\n",
        "\n",
        "Historically, fMRI of human brain activity has been restricted to the cortex; fMRI of the brainstem has been challenging. This is due at least in part to cardiac-induced pulsatile motion of the brainstem introduced by blood flowing through adjacent large arterios (Figure 2). In 1998, Guimaraes and colleagues showed that by alligning the acquisition of brain images with a certain phase of the cardiac cycle (as measured by EKG), the effect of this cardiac-induced pulsatile motion could be mitigated, enabling detection of neural activity in the brainstem by fMRI$^2$. Guimaraes and colleagues method, which was termed cardiac gating, made it possible to image subcortical activity in the human brain (specifically an auditory center of the brainstem, the inferior colliculus). \n",
        "\n",
        "<br>\n",
        "\n",
        "![picture](https://drive.google.com/uc?id=1K1Z9tMDWROGxWv5lON8iLR951qlSPWCN)\n",
        "\n",
        "**Figure 2.** Left panel: Depiction of the human brain including both the brainstem (blue) and cerebral cortex. Right panel: A closer view of the brainstem with large vessels overlaid. The basilar and posterior cerebral arteries, in particular, induce large motion of the brainstem, making it difficult to detect neural activation there.\n",
        "\n",
        "<br>\n",
        "\n",
        "However, subsequent improvements in fMRI methods have also led to increased sensitivity in imaging subcortical auditory structures, raising the question of whether cardiac gating still yields measurable benefit. For his masters thesis, Dykstra used modern auditory fMRI protocols to reexamine the effects of cardiac gating on sound-evoked activation throughout the human auditory pathway$^3$. Let's use the data collected for that study to examine the following specific questions:\n",
        "\n",
        "1. Does cardiac gating lower signal variability in the inferior colliculus? Does this change depending on whether we're looking at fMRI signal during sound-on or sound-off time periods?\n",
        "2. Does cardiac gating change the difference between fMRI signal measured between sound-on and sound-off periods in the inferior colliculus (also termed percent signal change)?\n",
        "3. Does cardiac gating increase the ability to detect sound-evoked neural activation in the inferior colliculus as measured by the t-statistic between sound on and sound off conditions?\n",
        "\n",
        "The data you'll need (which is read in to the notebook below) can be found at https://bit.ly/3euvd9S, along with a readme file: https://bit.ly/2VDbLPG.\n",
        "\n",
        "<br>\n",
        "\n",
        "$^1$_Actually, fMRI measures some aspect of blood flow or oxygenation, which is only a proxy for neural activity; Logothetis NK. What we can do and what we cannot do with fMRI. Nature. 2008 Jun;453(7197):869–78; Rosen BR, Savoy RL. fMRI at 20: Has it changed the world? NeuroImage. 2012 Aug 15;62(2):1316–24._\n",
        "\n",
        "$^2$_Guimaraes AR, Melcher JR, Talavage TM, Baker JR, Ledden P, Rosen BR, et al. Imaging subcortical auditory activity in humans. Human Brain Mapping. 1998;6(1):33–41._\n",
        "\n",
        "$^3$_Dykstra AR. Effects of cardiac gating on fMRI of the human auditory system [Thesis]. Massachusetts Institute of Technology; 2008. Available from: https://dspace.mit.edu/handle/1721.1/45852_\n"
      ]
    },
    {
      "cell_type": "code",
      "metadata": {
        "id": "d17n8_U_Rybz",
        "colab": {
          "base_uri": "https://localhost:8080/",
          "height": 618
        },
        "outputId": "507b9849-cfeb-4627-d3b4-d69bd6c5ead1"
      },
      "source": [
        "# First, let's install and load a useful library \n",
        "install.packages('resample')\n",
        "library('resample')\n",
        "\n",
        "# Read in the data from a shared file on google drive into a data frame:\n",
        "fname = 'https://drive.google.com/uc?id=1Y6t5TRe9Cq_eY5iUSm7MLmza99mLtB8E'\n",
        "df = read.csv(fname, header=TRUE)\n",
        "\n",
        "# To check if that was successful, let's look at the top and bottom of the data \n",
        "# frame\n",
        "head(df)\n",
        "tail(df)\n",
        "\n",
        "# Note: many of the values at the bottom of the data frame will be NaNs due to \n",
        "# the fact that not all subjects (or conditions within a subject) had the same \n",
        "# number of data time points"
      ],
      "execution_count": null,
      "outputs": [
        {
          "output_type": "stream",
          "text": [
            "Installing package into ‘/usr/local/lib/R/site-library’\n",
            "(as ‘lib’ is unspecified)\n",
            "\n"
          ],
          "name": "stderr"
        },
        {
          "output_type": "display_data",
          "data": {
            "text/plain": [
              "  S1_fixed_off S1_fixed_on S1_gated_off S1_gated_on S2_fixed_off S2_fixed_on\n",
              "1 0.9840       0.9900      0.9955       1.0105      1.00370      1.01430    \n",
              "2 0.9950       1.0145      1.0025       0.9985      0.99275      1.01520    \n",
              "3 1.0075       1.0190      0.9950       1.0125      0.99950      0.97325    \n",
              "4 0.9985       1.0185      0.9990       1.0000      1.00050      1.01880    \n",
              "5 0.9970       0.9885      1.0045       1.0045      0.99000      1.01320    \n",
              "6 0.9990       1.0085      1.0020       1.0035      1.00630      1.00650    \n",
              "  S2_gated_off S2_gated_on S3_fixed_off S3_fixed_on ⋯ S5_gated_off S5_gated_on\n",
              "1 0.98925      1.0012      1.0075       0.9995      ⋯ 1.00000      1.00500    \n",
              "2 1.00150      1.0103      0.9895       1.0337      ⋯ 0.99450      0.99750    \n",
              "3 1.00480      1.0028      1.0025       1.0257      ⋯ 0.99225      0.99675    \n",
              "4 0.99175      1.0137      1.0180       1.0043      ⋯ 0.99900      0.99575    \n",
              "5 0.99650      1.0095      0.9915       1.0045      ⋯ 1.00080      1.00280    \n",
              "6 0.98775      1.0003      1.0085       1.0097      ⋯ 0.99450      1.00520    \n",
              "  S6_fixed_off S6_fixed_on S6_gated_off S6_gated_on S7_fixed_off S7_fixed_on\n",
              "1 1.00000      1.01400     0.99400      1.01200     1.01000      1.0097     \n",
              "2 0.99475      1.00570     0.99300      0.99725     0.99550      1.0105     \n",
              "3 0.98550      1.00200     0.99475      1.00200     1.00800      0.9925     \n",
              "4 0.99875      1.00350     0.99700      1.00630     0.99725      1.0180     \n",
              "5 1.00400      1.01520     0.99750      1.00080     0.97300      1.0043     \n",
              "6 0.99300      0.99725     0.99500      1.00600     0.98200      1.0168     \n",
              "  S7_gated_off S7_gated_on\n",
              "1 0.99275      1.00300    \n",
              "2 0.99825      1.00500    \n",
              "3 0.99900      0.99575    \n",
              "4 0.99625      1.00480    \n",
              "5 0.99750      1.00150    \n",
              "6 0.99725      1.00430    "
            ],
            "text/latex": "A data.frame: 6 × 28\n\\begin{tabular}{r|lllllllllllllllllllll}\n  & S1\\_fixed\\_off & S1\\_fixed\\_on & S1\\_gated\\_off & S1\\_gated\\_on & S2\\_fixed\\_off & S2\\_fixed\\_on & S2\\_gated\\_off & S2\\_gated\\_on & S3\\_fixed\\_off & S3\\_fixed\\_on & ⋯ & S5\\_gated\\_off & S5\\_gated\\_on & S6\\_fixed\\_off & S6\\_fixed\\_on & S6\\_gated\\_off & S6\\_gated\\_on & S7\\_fixed\\_off & S7\\_fixed\\_on & S7\\_gated\\_off & S7\\_gated\\_on\\\\\n  & <dbl> & <dbl> & <dbl> & <dbl> & <dbl> & <dbl> & <dbl> & <dbl> & <dbl> & <dbl> & ⋯ & <dbl> & <dbl> & <dbl> & <dbl> & <dbl> & <dbl> & <dbl> & <dbl> & <dbl> & <dbl>\\\\\n\\hline\n\t1 & 0.9840 & 0.9900 & 0.9955 & 1.0105 & 1.00370 & 1.01430 & 0.98925 & 1.0012 & 1.0075 & 0.9995 & ⋯ & 1.00000 & 1.00500 & 1.00000 & 1.01400 & 0.99400 & 1.01200 & 1.01000 & 1.0097 & 0.99275 & 1.00300\\\\\n\t2 & 0.9950 & 1.0145 & 1.0025 & 0.9985 & 0.99275 & 1.01520 & 1.00150 & 1.0103 & 0.9895 & 1.0337 & ⋯ & 0.99450 & 0.99750 & 0.99475 & 1.00570 & 0.99300 & 0.99725 & 0.99550 & 1.0105 & 0.99825 & 1.00500\\\\\n\t3 & 1.0075 & 1.0190 & 0.9950 & 1.0125 & 0.99950 & 0.97325 & 1.00480 & 1.0028 & 1.0025 & 1.0257 & ⋯ & 0.99225 & 0.99675 & 0.98550 & 1.00200 & 0.99475 & 1.00200 & 1.00800 & 0.9925 & 0.99900 & 0.99575\\\\\n\t4 & 0.9985 & 1.0185 & 0.9990 & 1.0000 & 1.00050 & 1.01880 & 0.99175 & 1.0137 & 1.0180 & 1.0043 & ⋯ & 0.99900 & 0.99575 & 0.99875 & 1.00350 & 0.99700 & 1.00630 & 0.99725 & 1.0180 & 0.99625 & 1.00480\\\\\n\t5 & 0.9970 & 0.9885 & 1.0045 & 1.0045 & 0.99000 & 1.01320 & 0.99650 & 1.0095 & 0.9915 & 1.0045 & ⋯ & 1.00080 & 1.00280 & 1.00400 & 1.01520 & 0.99750 & 1.00080 & 0.97300 & 1.0043 & 0.99750 & 1.00150\\\\\n\t6 & 0.9990 & 1.0085 & 1.0020 & 1.0035 & 1.00630 & 1.00650 & 0.98775 & 1.0003 & 1.0085 & 1.0097 & ⋯ & 0.99450 & 1.00520 & 0.99300 & 0.99725 & 0.99500 & 1.00600 & 0.98200 & 1.0168 & 0.99725 & 1.00430\\\\\n\\end{tabular}\n",
            "text/markdown": "\nA data.frame: 6 × 28\n\n| <!--/--> | S1_fixed_off &lt;dbl&gt; | S1_fixed_on &lt;dbl&gt; | S1_gated_off &lt;dbl&gt; | S1_gated_on &lt;dbl&gt; | S2_fixed_off &lt;dbl&gt; | S2_fixed_on &lt;dbl&gt; | S2_gated_off &lt;dbl&gt; | S2_gated_on &lt;dbl&gt; | S3_fixed_off &lt;dbl&gt; | S3_fixed_on &lt;dbl&gt; | ⋯ ⋯ | S5_gated_off &lt;dbl&gt; | S5_gated_on &lt;dbl&gt; | S6_fixed_off &lt;dbl&gt; | S6_fixed_on &lt;dbl&gt; | S6_gated_off &lt;dbl&gt; | S6_gated_on &lt;dbl&gt; | S7_fixed_off &lt;dbl&gt; | S7_fixed_on &lt;dbl&gt; | S7_gated_off &lt;dbl&gt; | S7_gated_on &lt;dbl&gt; |\n|---|---|---|---|---|---|---|---|---|---|---|---|---|---|---|---|---|---|---|---|---|---|\n| 1 | 0.9840 | 0.9900 | 0.9955 | 1.0105 | 1.00370 | 1.01430 | 0.98925 | 1.0012 | 1.0075 | 0.9995 | ⋯ | 1.00000 | 1.00500 | 1.00000 | 1.01400 | 0.99400 | 1.01200 | 1.01000 | 1.0097 | 0.99275 | 1.00300 |\n| 2 | 0.9950 | 1.0145 | 1.0025 | 0.9985 | 0.99275 | 1.01520 | 1.00150 | 1.0103 | 0.9895 | 1.0337 | ⋯ | 0.99450 | 0.99750 | 0.99475 | 1.00570 | 0.99300 | 0.99725 | 0.99550 | 1.0105 | 0.99825 | 1.00500 |\n| 3 | 1.0075 | 1.0190 | 0.9950 | 1.0125 | 0.99950 | 0.97325 | 1.00480 | 1.0028 | 1.0025 | 1.0257 | ⋯ | 0.99225 | 0.99675 | 0.98550 | 1.00200 | 0.99475 | 1.00200 | 1.00800 | 0.9925 | 0.99900 | 0.99575 |\n| 4 | 0.9985 | 1.0185 | 0.9990 | 1.0000 | 1.00050 | 1.01880 | 0.99175 | 1.0137 | 1.0180 | 1.0043 | ⋯ | 0.99900 | 0.99575 | 0.99875 | 1.00350 | 0.99700 | 1.00630 | 0.99725 | 1.0180 | 0.99625 | 1.00480 |\n| 5 | 0.9970 | 0.9885 | 1.0045 | 1.0045 | 0.99000 | 1.01320 | 0.99650 | 1.0095 | 0.9915 | 1.0045 | ⋯ | 1.00080 | 1.00280 | 1.00400 | 1.01520 | 0.99750 | 1.00080 | 0.97300 | 1.0043 | 0.99750 | 1.00150 |\n| 6 | 0.9990 | 1.0085 | 1.0020 | 1.0035 | 1.00630 | 1.00650 | 0.98775 | 1.0003 | 1.0085 | 1.0097 | ⋯ | 0.99450 | 1.00520 | 0.99300 | 0.99725 | 0.99500 | 1.00600 | 0.98200 | 1.0168 | 0.99725 | 1.00430 |\n\n",
            "text/html": [
              "<table class=\"dataframe\">\n",
              "<caption>A data.frame: 6 × 28</caption>\n",
              "<thead>\n",
              "\t<tr><th></th><th scope=col>S1_fixed_off</th><th scope=col>S1_fixed_on</th><th scope=col>S1_gated_off</th><th scope=col>S1_gated_on</th><th scope=col>S2_fixed_off</th><th scope=col>S2_fixed_on</th><th scope=col>S2_gated_off</th><th scope=col>S2_gated_on</th><th scope=col>S3_fixed_off</th><th scope=col>S3_fixed_on</th><th scope=col>⋯</th><th scope=col>S5_gated_off</th><th scope=col>S5_gated_on</th><th scope=col>S6_fixed_off</th><th scope=col>S6_fixed_on</th><th scope=col>S6_gated_off</th><th scope=col>S6_gated_on</th><th scope=col>S7_fixed_off</th><th scope=col>S7_fixed_on</th><th scope=col>S7_gated_off</th><th scope=col>S7_gated_on</th></tr>\n",
              "\t<tr><th></th><th scope=col>&lt;dbl&gt;</th><th scope=col>&lt;dbl&gt;</th><th scope=col>&lt;dbl&gt;</th><th scope=col>&lt;dbl&gt;</th><th scope=col>&lt;dbl&gt;</th><th scope=col>&lt;dbl&gt;</th><th scope=col>&lt;dbl&gt;</th><th scope=col>&lt;dbl&gt;</th><th scope=col>&lt;dbl&gt;</th><th scope=col>&lt;dbl&gt;</th><th scope=col>⋯</th><th scope=col>&lt;dbl&gt;</th><th scope=col>&lt;dbl&gt;</th><th scope=col>&lt;dbl&gt;</th><th scope=col>&lt;dbl&gt;</th><th scope=col>&lt;dbl&gt;</th><th scope=col>&lt;dbl&gt;</th><th scope=col>&lt;dbl&gt;</th><th scope=col>&lt;dbl&gt;</th><th scope=col>&lt;dbl&gt;</th><th scope=col>&lt;dbl&gt;</th></tr>\n",
              "</thead>\n",
              "<tbody>\n",
              "\t<tr><th scope=row>1</th><td>0.9840</td><td>0.9900</td><td>0.9955</td><td>1.0105</td><td>1.00370</td><td>1.01430</td><td>0.98925</td><td>1.0012</td><td>1.0075</td><td>0.9995</td><td>⋯</td><td>1.00000</td><td>1.00500</td><td>1.00000</td><td>1.01400</td><td>0.99400</td><td>1.01200</td><td>1.01000</td><td>1.0097</td><td>0.99275</td><td>1.00300</td></tr>\n",
              "\t<tr><th scope=row>2</th><td>0.9950</td><td>1.0145</td><td>1.0025</td><td>0.9985</td><td>0.99275</td><td>1.01520</td><td>1.00150</td><td>1.0103</td><td>0.9895</td><td>1.0337</td><td>⋯</td><td>0.99450</td><td>0.99750</td><td>0.99475</td><td>1.00570</td><td>0.99300</td><td>0.99725</td><td>0.99550</td><td>1.0105</td><td>0.99825</td><td>1.00500</td></tr>\n",
              "\t<tr><th scope=row>3</th><td>1.0075</td><td>1.0190</td><td>0.9950</td><td>1.0125</td><td>0.99950</td><td>0.97325</td><td>1.00480</td><td>1.0028</td><td>1.0025</td><td>1.0257</td><td>⋯</td><td>0.99225</td><td>0.99675</td><td>0.98550</td><td>1.00200</td><td>0.99475</td><td>1.00200</td><td>1.00800</td><td>0.9925</td><td>0.99900</td><td>0.99575</td></tr>\n",
              "\t<tr><th scope=row>4</th><td>0.9985</td><td>1.0185</td><td>0.9990</td><td>1.0000</td><td>1.00050</td><td>1.01880</td><td>0.99175</td><td>1.0137</td><td>1.0180</td><td>1.0043</td><td>⋯</td><td>0.99900</td><td>0.99575</td><td>0.99875</td><td>1.00350</td><td>0.99700</td><td>1.00630</td><td>0.99725</td><td>1.0180</td><td>0.99625</td><td>1.00480</td></tr>\n",
              "\t<tr><th scope=row>5</th><td>0.9970</td><td>0.9885</td><td>1.0045</td><td>1.0045</td><td>0.99000</td><td>1.01320</td><td>0.99650</td><td>1.0095</td><td>0.9915</td><td>1.0045</td><td>⋯</td><td>1.00080</td><td>1.00280</td><td>1.00400</td><td>1.01520</td><td>0.99750</td><td>1.00080</td><td>0.97300</td><td>1.0043</td><td>0.99750</td><td>1.00150</td></tr>\n",
              "\t<tr><th scope=row>6</th><td>0.9990</td><td>1.0085</td><td>1.0020</td><td>1.0035</td><td>1.00630</td><td>1.00650</td><td>0.98775</td><td>1.0003</td><td>1.0085</td><td>1.0097</td><td>⋯</td><td>0.99450</td><td>1.00520</td><td>0.99300</td><td>0.99725</td><td>0.99500</td><td>1.00600</td><td>0.98200</td><td>1.0168</td><td>0.99725</td><td>1.00430</td></tr>\n",
              "</tbody>\n",
              "</table>\n"
            ]
          },
          "metadata": {
            "tags": []
          }
        },
        {
          "output_type": "display_data",
          "data": {
            "text/plain": [
              "    S1_fixed_off S1_fixed_on S1_gated_off S1_gated_on S2_fixed_off S2_fixed_on\n",
              "115 NaN          NaN         NaN          NaN         NaN          NaN        \n",
              "116 NaN          NaN         NaN          NaN         NaN          NaN        \n",
              "117 NaN          NaN         NaN          NaN         NaN          NaN        \n",
              "118 NaN          NaN         NaN          NaN         NaN          NaN        \n",
              "119 NaN          NaN         NaN          NaN         NaN          NaN        \n",
              "120 NaN          NaN         NaN          NaN         NaN          NaN        \n",
              "    S2_gated_off S2_gated_on S3_fixed_off S3_fixed_on ⋯ S5_gated_off\n",
              "115 0.99433      NaN         NaN          NaN         ⋯ NaN         \n",
              "116 0.99300      NaN         NaN          NaN         ⋯ NaN         \n",
              "117     NaN      NaN         NaN          NaN         ⋯ NaN         \n",
              "118     NaN      NaN         NaN          NaN         ⋯ NaN         \n",
              "119     NaN      NaN         NaN          NaN         ⋯ NaN         \n",
              "120     NaN      NaN         NaN          NaN         ⋯ NaN         \n",
              "    S5_gated_on S6_fixed_off S6_fixed_on S6_gated_off S6_gated_on S7_fixed_off\n",
              "115 NaN         NaN          NaN         NaN          NaN         NaN         \n",
              "116 NaN         NaN          NaN         NaN          NaN         NaN         \n",
              "117 NaN         NaN          NaN         NaN          NaN         NaN         \n",
              "118 NaN         NaN          NaN         NaN          NaN         NaN         \n",
              "119 NaN         NaN          NaN         NaN          NaN         NaN         \n",
              "120 NaN         NaN          NaN         NaN          NaN         NaN         \n",
              "    S7_fixed_on S7_gated_off S7_gated_on\n",
              "115 NaN         1.005        NaN        \n",
              "116 NaN         0.996        NaN        \n",
              "117 NaN           NaN        NaN        \n",
              "118 NaN           NaN        NaN        \n",
              "119 NaN           NaN        NaN        \n",
              "120 NaN           NaN        NaN        "
            ],
            "text/latex": "A data.frame: 6 × 28\n\\begin{tabular}{r|lllllllllllllllllllll}\n  & S1\\_fixed\\_off & S1\\_fixed\\_on & S1\\_gated\\_off & S1\\_gated\\_on & S2\\_fixed\\_off & S2\\_fixed\\_on & S2\\_gated\\_off & S2\\_gated\\_on & S3\\_fixed\\_off & S3\\_fixed\\_on & ⋯ & S5\\_gated\\_off & S5\\_gated\\_on & S6\\_fixed\\_off & S6\\_fixed\\_on & S6\\_gated\\_off & S6\\_gated\\_on & S7\\_fixed\\_off & S7\\_fixed\\_on & S7\\_gated\\_off & S7\\_gated\\_on\\\\\n  & <dbl> & <dbl> & <dbl> & <dbl> & <dbl> & <dbl> & <dbl> & <dbl> & <dbl> & <dbl> & ⋯ & <dbl> & <dbl> & <dbl> & <dbl> & <dbl> & <dbl> & <dbl> & <dbl> & <dbl> & <dbl>\\\\\n\\hline\n\t115 & NaN & NaN & NaN & NaN & NaN & NaN & 0.99433 & NaN & NaN & NaN & ⋯ & NaN & NaN & NaN & NaN & NaN & NaN & NaN & NaN & 1.005 & NaN\\\\\n\t116 & NaN & NaN & NaN & NaN & NaN & NaN & 0.99300 & NaN & NaN & NaN & ⋯ & NaN & NaN & NaN & NaN & NaN & NaN & NaN & NaN & 0.996 & NaN\\\\\n\t117 & NaN & NaN & NaN & NaN & NaN & NaN &     NaN & NaN & NaN & NaN & ⋯ & NaN & NaN & NaN & NaN & NaN & NaN & NaN & NaN &   NaN & NaN\\\\\n\t118 & NaN & NaN & NaN & NaN & NaN & NaN &     NaN & NaN & NaN & NaN & ⋯ & NaN & NaN & NaN & NaN & NaN & NaN & NaN & NaN &   NaN & NaN\\\\\n\t119 & NaN & NaN & NaN & NaN & NaN & NaN &     NaN & NaN & NaN & NaN & ⋯ & NaN & NaN & NaN & NaN & NaN & NaN & NaN & NaN &   NaN & NaN\\\\\n\t120 & NaN & NaN & NaN & NaN & NaN & NaN &     NaN & NaN & NaN & NaN & ⋯ & NaN & NaN & NaN & NaN & NaN & NaN & NaN & NaN &   NaN & NaN\\\\\n\\end{tabular}\n",
            "text/markdown": "\nA data.frame: 6 × 28\n\n| <!--/--> | S1_fixed_off &lt;dbl&gt; | S1_fixed_on &lt;dbl&gt; | S1_gated_off &lt;dbl&gt; | S1_gated_on &lt;dbl&gt; | S2_fixed_off &lt;dbl&gt; | S2_fixed_on &lt;dbl&gt; | S2_gated_off &lt;dbl&gt; | S2_gated_on &lt;dbl&gt; | S3_fixed_off &lt;dbl&gt; | S3_fixed_on &lt;dbl&gt; | ⋯ ⋯ | S5_gated_off &lt;dbl&gt; | S5_gated_on &lt;dbl&gt; | S6_fixed_off &lt;dbl&gt; | S6_fixed_on &lt;dbl&gt; | S6_gated_off &lt;dbl&gt; | S6_gated_on &lt;dbl&gt; | S7_fixed_off &lt;dbl&gt; | S7_fixed_on &lt;dbl&gt; | S7_gated_off &lt;dbl&gt; | S7_gated_on &lt;dbl&gt; |\n|---|---|---|---|---|---|---|---|---|---|---|---|---|---|---|---|---|---|---|---|---|---|\n| 115 | NaN | NaN | NaN | NaN | NaN | NaN | 0.99433 | NaN | NaN | NaN | ⋯ | NaN | NaN | NaN | NaN | NaN | NaN | NaN | NaN | 1.005 | NaN |\n| 116 | NaN | NaN | NaN | NaN | NaN | NaN | 0.99300 | NaN | NaN | NaN | ⋯ | NaN | NaN | NaN | NaN | NaN | NaN | NaN | NaN | 0.996 | NaN |\n| 117 | NaN | NaN | NaN | NaN | NaN | NaN |     NaN | NaN | NaN | NaN | ⋯ | NaN | NaN | NaN | NaN | NaN | NaN | NaN | NaN |   NaN | NaN |\n| 118 | NaN | NaN | NaN | NaN | NaN | NaN |     NaN | NaN | NaN | NaN | ⋯ | NaN | NaN | NaN | NaN | NaN | NaN | NaN | NaN |   NaN | NaN |\n| 119 | NaN | NaN | NaN | NaN | NaN | NaN |     NaN | NaN | NaN | NaN | ⋯ | NaN | NaN | NaN | NaN | NaN | NaN | NaN | NaN |   NaN | NaN |\n| 120 | NaN | NaN | NaN | NaN | NaN | NaN |     NaN | NaN | NaN | NaN | ⋯ | NaN | NaN | NaN | NaN | NaN | NaN | NaN | NaN |   NaN | NaN |\n\n",
            "text/html": [
              "<table class=\"dataframe\">\n",
              "<caption>A data.frame: 6 × 28</caption>\n",
              "<thead>\n",
              "\t<tr><th></th><th scope=col>S1_fixed_off</th><th scope=col>S1_fixed_on</th><th scope=col>S1_gated_off</th><th scope=col>S1_gated_on</th><th scope=col>S2_fixed_off</th><th scope=col>S2_fixed_on</th><th scope=col>S2_gated_off</th><th scope=col>S2_gated_on</th><th scope=col>S3_fixed_off</th><th scope=col>S3_fixed_on</th><th scope=col>⋯</th><th scope=col>S5_gated_off</th><th scope=col>S5_gated_on</th><th scope=col>S6_fixed_off</th><th scope=col>S6_fixed_on</th><th scope=col>S6_gated_off</th><th scope=col>S6_gated_on</th><th scope=col>S7_fixed_off</th><th scope=col>S7_fixed_on</th><th scope=col>S7_gated_off</th><th scope=col>S7_gated_on</th></tr>\n",
              "\t<tr><th></th><th scope=col>&lt;dbl&gt;</th><th scope=col>&lt;dbl&gt;</th><th scope=col>&lt;dbl&gt;</th><th scope=col>&lt;dbl&gt;</th><th scope=col>&lt;dbl&gt;</th><th scope=col>&lt;dbl&gt;</th><th scope=col>&lt;dbl&gt;</th><th scope=col>&lt;dbl&gt;</th><th scope=col>&lt;dbl&gt;</th><th scope=col>&lt;dbl&gt;</th><th scope=col>⋯</th><th scope=col>&lt;dbl&gt;</th><th scope=col>&lt;dbl&gt;</th><th scope=col>&lt;dbl&gt;</th><th scope=col>&lt;dbl&gt;</th><th scope=col>&lt;dbl&gt;</th><th scope=col>&lt;dbl&gt;</th><th scope=col>&lt;dbl&gt;</th><th scope=col>&lt;dbl&gt;</th><th scope=col>&lt;dbl&gt;</th><th scope=col>&lt;dbl&gt;</th></tr>\n",
              "</thead>\n",
              "<tbody>\n",
              "\t<tr><th scope=row>115</th><td>NaN</td><td>NaN</td><td>NaN</td><td>NaN</td><td>NaN</td><td>NaN</td><td>0.99433</td><td>NaN</td><td>NaN</td><td>NaN</td><td>⋯</td><td>NaN</td><td>NaN</td><td>NaN</td><td>NaN</td><td>NaN</td><td>NaN</td><td>NaN</td><td>NaN</td><td>1.005</td><td>NaN</td></tr>\n",
              "\t<tr><th scope=row>116</th><td>NaN</td><td>NaN</td><td>NaN</td><td>NaN</td><td>NaN</td><td>NaN</td><td>0.99300</td><td>NaN</td><td>NaN</td><td>NaN</td><td>⋯</td><td>NaN</td><td>NaN</td><td>NaN</td><td>NaN</td><td>NaN</td><td>NaN</td><td>NaN</td><td>NaN</td><td>0.996</td><td>NaN</td></tr>\n",
              "\t<tr><th scope=row>117</th><td>NaN</td><td>NaN</td><td>NaN</td><td>NaN</td><td>NaN</td><td>NaN</td><td>    NaN</td><td>NaN</td><td>NaN</td><td>NaN</td><td>⋯</td><td>NaN</td><td>NaN</td><td>NaN</td><td>NaN</td><td>NaN</td><td>NaN</td><td>NaN</td><td>NaN</td><td>  NaN</td><td>NaN</td></tr>\n",
              "\t<tr><th scope=row>118</th><td>NaN</td><td>NaN</td><td>NaN</td><td>NaN</td><td>NaN</td><td>NaN</td><td>    NaN</td><td>NaN</td><td>NaN</td><td>NaN</td><td>⋯</td><td>NaN</td><td>NaN</td><td>NaN</td><td>NaN</td><td>NaN</td><td>NaN</td><td>NaN</td><td>NaN</td><td>  NaN</td><td>NaN</td></tr>\n",
              "\t<tr><th scope=row>119</th><td>NaN</td><td>NaN</td><td>NaN</td><td>NaN</td><td>NaN</td><td>NaN</td><td>    NaN</td><td>NaN</td><td>NaN</td><td>NaN</td><td>⋯</td><td>NaN</td><td>NaN</td><td>NaN</td><td>NaN</td><td>NaN</td><td>NaN</td><td>NaN</td><td>NaN</td><td>  NaN</td><td>NaN</td></tr>\n",
              "\t<tr><th scope=row>120</th><td>NaN</td><td>NaN</td><td>NaN</td><td>NaN</td><td>NaN</td><td>NaN</td><td>    NaN</td><td>NaN</td><td>NaN</td><td>NaN</td><td>⋯</td><td>NaN</td><td>NaN</td><td>NaN</td><td>NaN</td><td>NaN</td><td>NaN</td><td>NaN</td><td>NaN</td><td>  NaN</td><td>NaN</td></tr>\n",
              "</tbody>\n",
              "</table>\n"
            ]
          },
          "metadata": {
            "tags": []
          }
        }
      ]
    },
    {
      "cell_type": "markdown",
      "metadata": {
        "id": "kntPKhDhi5mC"
      },
      "source": [
        "## **A few tips:**\n",
        "\n",
        "### 1. Dealing with data frames.\n",
        "- To access a single column of data, type `df$column_heading` or `df['column_heading']`, where column_heading is replaced by the column heading of interest. For example: \n",
        "  - `df$S1_fixed_off` or `df['S1_fixed_off']`\n",
        "\n",
        "- To compute the means, variances, or standard deviations of the columns, ignoring NaNs, type:\n",
        "  - `colMeans(df, na.rm=TRUE)`\n",
        "  - `colVars(df, na.rm=TRUE)`\n",
        "  - `colStdevs(df, na.rm=TRUE)`\n",
        "\n",
        "- To compute the mean, variance, or standard deviation of a single column, ignoring NaNs, type:\n",
        "  - `mean(df$column_heading, na.rm=TRUE)`\n",
        "  - `var(df$column_heading, na.rm=TRUE)`\n",
        "  - `sd(df$column_heading, na.rm=TRUE)`\n",
        "\n",
        "### 2. A few R functions you might find useful in answering the three questions posed above:\n",
        "\n",
        "- `var.test` (useful for comparing variances in individual subjects)\n",
        "  - Example: `var.test(df$S1_fixed_off, df$S1_gated_off)`\n",
        "- `wilcox.test` (useful for testing whether variances and t-statistics across all subjects are different between different conditions)\n",
        "  - Example: `wilcox.test(vars_fixed_off, vars_gated_off, paired=TRUE)`\n",
        "  - Note that you'll also have to specify whether you want a one-sided or two-sided alternative using the `alternative` argument. Options are `'two.sided'`, `'greater'`, or `'less'`.\n",
        "- `t.test` (useful for testing whether percent signal change across all subjects are different between fixed and gated conditions)\n",
        "\n",
        "### 3. Finally, don't forget to include descriptions (especially graphical) of the data before proceeding to formal statistical analysis. It is **_always_** important to look at your data before analyzing it.\n"
      ]
    }
  ]
}